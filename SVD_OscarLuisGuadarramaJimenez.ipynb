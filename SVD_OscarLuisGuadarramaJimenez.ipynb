{
  "cells": [
    {
      "cell_type": "markdown",
      "metadata": {
        "id": "VFj0sSM06dYa"
      },
      "source": [
        "##**Maestría en Inteligencia Artificial Aplicada**\n",
        "###**Curso: Inteligencia Artificial y Aprendizaje Automático**\n",
        "####Tecnológico de Monterrey\n",
        "####Prof Luis Eduardo Falcón Morales\n",
        "\n",
        "### **Adtividad de la Semana 8**\n",
        "####**Reducción de Dimensionalidad - Descomposición en Valores Singulares (SVD) y Sistemas de Recomendación**\n"
      ]
    },
    {
      "cell_type": "markdown",
      "metadata": {
        "id": "Qgrvy0RGB9XI"
      },
      "source": [
        "**Esta Actividad deberás resolverla de manera individual.**\n",
        "\n",
        "**Nombre y matrícula:**\n",
        "\n",
        "*   Oscar Luis Guadarrama Jimenez \n",
        "*   A01796245\n"
      ]
    },
    {
      "cell_type": "code",
      "execution_count": 13,
      "metadata": {
        "id": "exXsscs-Dh-2"
      },
      "outputs": [],
      "source": [
        "# Agrega aquí todas las librerías y paquetes adicionales que requieras.\n",
        "\n",
        "import numpy as np\n",
        "import pandas as pd\n",
        "from sklearn.decomposition import TruncatedSVD\n",
        "from sklearn.preprocessing import OneHotEncoder\n",
        "from sklearn.metrics.pairwise import cosine_similarity"
      ]
    },
    {
      "cell_type": "markdown",
      "metadata": {
        "id": "8LCCGOCnB20k"
      },
      "source": [
        "### **Liga de Datos de la UCI \"Restaurant & consumer data\".**\n",
        "### **Descarga \"RCdata.zip\" y de ahí necesitaremos los archivos \"rating_final.csv\" y \"geoplaces2.csv\".**\n",
        "\n",
        "https://archive.ics.uci.edu/dataset/232/restaurant+consumer+data\n",
        "\n",
        "### **Puedes también usar la siguiente liga:**\n",
        "\n",
        "https://www.kaggle.com/datasets/prajitdatta/movielens-100k-dataset"
      ]
    },
    {
      "cell_type": "code",
      "execution_count": 14,
      "metadata": {
        "colab": {
          "base_uri": "https://localhost:8080/"
        },
        "id": "3nU2GuWYCy6C",
        "outputId": "da41e06a-51a3-4f6a-eecb-49bb136bb422"
      },
      "outputs": [
        {
          "name": "stdout",
          "output_type": "stream",
          "text": [
            "(1161, 5) (130, 21)\n"
          ]
        }
      ],
      "source": [
        "# Descarga los archivos de la página de la UCI a partir de los cuales generaremos\n",
        "# nuestras matrices de utilidad.\n",
        "\n",
        "data_rating = pd.read_csv(\"rating_final.csv\", header='infer', sep=\",\")\n",
        "data_geo = pd.read_csv(\"geoplaces2.csv\", header='infer',  encoding='latin-1')\n",
        "\n",
        "print(data_rating.shape, data_geo.shape)\n"
      ]
    },
    {
      "cell_type": "markdown",
      "metadata": {
        "id": "9ejOXFX0wRbr"
      },
      "source": [
        "## **Ejercicio - 1**"
      ]
    },
    {
      "cell_type": "markdown",
      "metadata": {
        "id": "SXZCu8d24qhg"
      },
      "source": [
        "### **Explica cuál es el propósito de usar el argumento \"latin-1\" al cargar el segundo archivo.**"
      ]
    },
    {
      "cell_type": "markdown",
      "metadata": {
        "id": "QnVxVjpd5Ulw"
      },
      "source": [
        "++++++++ Inicia la sección de agregar texto: +++++++++++\n",
        "\n",
        "El argumento \"latin-1\" se utiliza para que se puedan reconocer carateres de lenguas de origen latino \n",
        "\n",
        "++++++++ Termina la sección de agregar texto. +++++++++++"
      ]
    },
    {
      "cell_type": "markdown",
      "metadata": {
        "id": "DbEshKJnwPp3"
      },
      "source": [
        "## **Ejercicio - 2**"
      ]
    },
    {
      "cell_type": "markdown",
      "metadata": {
        "id": "0M4bdUWEDPt2"
      },
      "source": [
        "#### **Cada restaurante debe tener un nombre diferente:**"
      ]
    },
    {
      "cell_type": "code",
      "execution_count": 15,
      "metadata": {
        "id": "gmt8o2u8wcDm"
      },
      "outputs": [
        {
          "data": {
            "text/plain": [
              "array(['Kiku Cuernavaca', 'puesto de tacos', 'El Rincón de San Francisco',\n",
              "       'little pizza Emilio Portes Gil', 'carnitas_mata',\n",
              "       'Restaurant los Compadres', 'Taqueria EL amigo ', 'shi ro ie',\n",
              "       'Pollo_Frito_Buenos_Aires', 'la Estrella de Dimas',\n",
              "       'Restaurante 75', 'Abondance Restaurante Bar',\n",
              "       'El angel Restaurante', 'Restaurante Pueblo Bonito',\n",
              "       'Mcdonalds Parque Tangamanga', 'Tortas y hamburguesas el gordo',\n",
              "       'Sirlone', 'rockabilly ', 'Unicols Pizza', 'TACOS EL GUERO',\n",
              "       'Restaurant El Muladar de Calzada', 'La Posada del Virrey',\n",
              "       'Restaurant and Bar and Clothesline Carlos N Charlies', 'KFC',\n",
              "       'Giovannis', 'Restaurant Oriental Express', 'Mariscos Tia Licha',\n",
              "       'cafe ambar', 'Restaurante la Gran Via', 'don burguers',\n",
              "       'Restaurante y Pescaderia Tampico', 'Rincon del Bife',\n",
              "       'La Fontana Pizza Restaurante and Cafe',\n",
              "       'Restaurante la Estrella de Dima', 'El Rincon de San Francisco',\n",
              "       'Preambulo Wifi Zone Cafe', 'El Herradero Restaurante and Bar',\n",
              "       'Koye Sushi', 'Restaurant Teely', 'la parroquia', 'Luna Cafe',\n",
              "       'Hamburguesas La perica', 'Restaurante El Reyecito', 'churchs',\n",
              "       'Dominos Pizza', 'el pueblito', 'emilianos',\n",
              "       'Restaurant Bar Hacienda los Martinez', 'Vips',\n",
              "       'Restaurante Alhondiga', 'los Toneles', 'Restaurant los Pinos',\n",
              "       'Restaurante Guerra', 'Michiko Restaurant Japones',\n",
              "       'Restaurante Marisco Sam',\n",
              "       'la Cochinita Pibil Restaurante Yucateco', 'Potzocalli',\n",
              "       'Restaurante la Parroquia Potosina', 'El Oceano Dorado',\n",
              "       'Restaurante El Chivero S.A. de C.V.', 'Restaurant la Chalita',\n",
              "       'El Club', 'Gordas de morales', 'Restaurante Versalles', 'Subway',\n",
              "       'La Cantina Restaurante', 'Cenaduria El RincÃ³n de Tlaquepaque',\n",
              "       'Los Vikingos', 'Hamburguesas Valle Dorado', 'la Cantina',\n",
              "       'dairy queen', 'Arrachela Grill', 'vips', 'palomo tec',\n",
              "       'Restaurante Casa de las Flores', 'VIPS', 'TACOS CORRECAMINOS',\n",
              "       'Restaurant Wu Zhuo Yi', 'El Mundo de la Pasta',\n",
              "       'Restaurante la Cantina', 'Gorditas Doa Gloria',\n",
              "       'el lechon potosino ', 'Restaurante Bar Fu-hao', 'tortas hawai',\n",
              "       'Carls Jr', 'Hamburguesas saul', 'Carreton de Flautas y Migadas',\n",
              "       'Rincon Huasteco', 'El cotorreo', 'Gorditas Dona Tota',\n",
              "       'Pizzeria Julios', 'Chilis Cuernavaca', 'Cafe Chaires',\n",
              "       'tacos los volcanes', 'Little Cesarz', 'cafe punta del cielo',\n",
              "       'tacos de la estacion', 'Restaurant Orizatlan',\n",
              "       'Restaurant Familiar El Chino', 'Restaurant de Mariscos de Picon',\n",
              "       'Sanborns Casa Piedra', 'La Estrella de Dimas', 'pizza clasica',\n",
              "       'Carnitas Mata  Calle 16 de Septiembre',\n",
              "       'Restaurante de Mariscos la Langosta',\n",
              "       'Restaurante Bar El Gallinero', 'puesto de gorditas', 'Log Yin',\n",
              "       'Mariscos El Pescador', 'carnitas mata calle Emilio Portes Gil',\n",
              "       'crudalia', 'tacos de barbacoa enfrente del Tec',\n",
              "       'Restaurant Las Mananitas', 'Restaurante El Cielo Potosino',\n",
              "       'Mikasa', 'Cafeteria cenidet', 'Restaurante Tiberius',\n",
              "       'Cabana Huasteca', 'Gorditas Dona Tota',\n",
              "       'Cafeteria y Restaurant El Pacifico', 'La Virreina',\n",
              "       'Tortas Locas Hipocampo', 'tacos abi', 'la perica hamburguesa',\n",
              "       'McDonalds Centro', 'Chaires', 'Sushi Itto', 'Paniroles',\n",
              "       'Restaurant Bar Coty y Pablo', 'sirloin stockade'], dtype=object)"
            ]
          },
          "execution_count": 15,
          "metadata": {},
          "output_type": "execute_result"
        }
      ],
      "source": [
        "# Veamos la lista de restaurantes.\n",
        "# Todos ellos son restaurantes ubicados en alguna ciudad del país de México:\n",
        "\n",
        "data_geo['name'].values"
      ]
    },
    {
      "cell_type": "markdown",
      "metadata": {
        "id": "_TPm5DHjwTMg"
      },
      "source": [
        "*   ### **Todos los restaurantes que aparecen en esta lista son negocios diferentes, en el sentido de que físicamente están ubicados en diferentes ciudades de México, aunque algunos pertenezcan a una franquicia, como Vips.**\n",
        "\n",
        "*   ### **Para los fines de este ejercicio, estaremos considerando a todos los restaurantes como diferentes. Sin embargo, en el caso de Vips, existen tres restaurantes en esta lista capturados con los nombres: VIPS, Vips y vips. Que por sus coordenadas de latitud y longitud sabemos que están ubicados en SLP, Cuernavaca y cdVictoria. Se podrían cambiar los nombres agregando la ciudad, pero como se capturaron los nombres de manera diferente con minúsculas y mayúsculas, los dejaremos por el momento de esta manera.**\n",
        "\n",
        "*   ### **Por el momento no estaremos haciendo las recomendaciones por el lugar donde se encuentran, sino solamente por la evaluación del restaurante y otras características que no tienen que ver con la ubicación.**\n",
        "\n",
        "*   ### **Existen otras franquicias capturadas también de manera diferente, salvo el caso de 'Gorditas Dona Tota', en el cual dos de estos restaurantes que están ubicados en Cd.Victoria fueron registrados exactamente con el mismo nombre. Para que nuestro sistema de recomendación pueda diferenciarlos, deberás cambiar el nombre de uno de ellos como se te indica a continuación.**  "
      ]
    },
    {
      "cell_type": "markdown",
      "metadata": {
        "id": "RYe-1NVb7Rts"
      },
      "source": [
        "### **De los dos restaurantes registrados con el nombre de 'Gorditas Dona Tota', encuentra sus índices y cambia el que tiene el mayor índice en data_geo[name] al de  'Gorditas Dona Tota 2'.**"
      ]
    },
    {
      "cell_type": "code",
      "execution_count": 16,
      "metadata": {
        "id": "BCi-JC9V-sNj"
      },
      "outputs": [
        {
          "name": "stdout",
          "output_type": "stream",
          "text": [
            "Verificando el cambio de nombre:\n",
            " 89       Gorditas Dona Tota\n",
            "118    Gorditas Dona Tota 2\n",
            "Name: name, dtype: object\n"
          ]
        },
        {
          "name": "stderr",
          "output_type": "stream",
          "text": [
            "C:\\Users\\Oscar\\AppData\\Local\\Temp\\ipykernel_41920\\1810356955.py:8: FutureWarning: ChainedAssignmentError: behaviour will change in pandas 3.0!\n",
            "You are setting values through chained assignment. Currently this works in certain cases, but when using Copy-on-Write (which will become the default behaviour in pandas 3.0) this will never work to update the original DataFrame or Series, because the intermediate object on which we are setting values will behave as a copy.\n",
            "A typical example is when you are setting values in a column of a DataFrame, like:\n",
            "\n",
            "df[\"col\"][row_indexer] = value\n",
            "\n",
            "Use `df.loc[row_indexer, \"col\"] = values` instead, to perform the assignment in a single step and ensure this keeps updating the original `df`.\n",
            "\n",
            "See the caveats in the documentation: https://pandas.pydata.org/pandas-docs/stable/user_guide/indexing.html#returning-a-view-versus-a-copy\n",
            "\n",
            "  data_geo['name'].loc[data_geo['name'].loc[(data_geo['name'] == 'Gorditas Dona Tota')].index[1]] = 'Gorditas Dona Tota 2'\n",
            "C:\\Users\\Oscar\\AppData\\Local\\Temp\\ipykernel_41920\\1810356955.py:8: SettingWithCopyWarning: \n",
            "A value is trying to be set on a copy of a slice from a DataFrame\n",
            "\n",
            "See the caveats in the documentation: https://pandas.pydata.org/pandas-docs/stable/user_guide/indexing.html#returning-a-view-versus-a-copy\n",
            "  data_geo['name'].loc[data_geo['name'].loc[(data_geo['name'] == 'Gorditas Dona Tota')].index[1]] = 'Gorditas Dona Tota 2'\n"
          ]
        }
      ],
      "source": [
        "# Ejercicio-2\n",
        "\n",
        "# ************* Inlcuye aquí tu código:*****************************\n",
        "\n",
        "\n",
        "# Lista de índices de los registros con el nombre de 'Gorditas Dona Tota':\n",
        "indices_Dona_Tota = data_geo.loc[(data_geo['name'] == 'Gorditas Dona Tota')].index\n",
        "data_geo['name'].loc[data_geo['name'].loc[(data_geo['name'] == 'Gorditas Dona Tota')].index[1]] = 'Gorditas Dona Tota 2'\n",
        "\n",
        "# *********** Aquí termina la sección de agregar código *************\n",
        "\n",
        "print('Verificando el cambio de nombre:\\n', data_geo.loc[indices_Dona_Tota, 'name'])"
      ]
    },
    {
      "cell_type": "markdown",
      "metadata": {
        "id": "rr3hJTCW6c05"
      },
      "source": [
        "## **Ejercicio - 3**"
      ]
    },
    {
      "cell_type": "code",
      "execution_count": 17,
      "metadata": {
        "id": "0ulkqXVGCy97"
      },
      "outputs": [
        {
          "data": {
            "text/html": [
              "<div>\n",
              "<style scoped>\n",
              "    .dataframe tbody tr th:only-of-type {\n",
              "        vertical-align: middle;\n",
              "    }\n",
              "\n",
              "    .dataframe tbody tr th {\n",
              "        vertical-align: top;\n",
              "    }\n",
              "\n",
              "    .dataframe thead th {\n",
              "        text-align: right;\n",
              "    }\n",
              "</style>\n",
              "<table border=\"1\" class=\"dataframe\">\n",
              "  <thead>\n",
              "    <tr style=\"text-align: right;\">\n",
              "      <th></th>\n",
              "      <th>userID</th>\n",
              "      <th>placeID</th>\n",
              "      <th>rating</th>\n",
              "      <th>food_rating</th>\n",
              "      <th>service_rating</th>\n",
              "    </tr>\n",
              "  </thead>\n",
              "  <tbody>\n",
              "    <tr>\n",
              "      <th>0</th>\n",
              "      <td>U1077</td>\n",
              "      <td>135085</td>\n",
              "      <td>2</td>\n",
              "      <td>2</td>\n",
              "      <td>2</td>\n",
              "    </tr>\n",
              "    <tr>\n",
              "      <th>1</th>\n",
              "      <td>U1077</td>\n",
              "      <td>135038</td>\n",
              "      <td>2</td>\n",
              "      <td>2</td>\n",
              "      <td>1</td>\n",
              "    </tr>\n",
              "    <tr>\n",
              "      <th>2</th>\n",
              "      <td>U1077</td>\n",
              "      <td>132825</td>\n",
              "      <td>2</td>\n",
              "      <td>2</td>\n",
              "      <td>2</td>\n",
              "    </tr>\n",
              "  </tbody>\n",
              "</table>\n",
              "</div>"
            ],
            "text/plain": [
              "  userID  placeID  rating  food_rating  service_rating\n",
              "0  U1077   135085       2            2               2\n",
              "1  U1077   135038       2            2               1\n",
              "2  U1077   132825       2            2               2"
            ]
          },
          "execution_count": 17,
          "metadata": {},
          "output_type": "execute_result"
        }
      ],
      "source": [
        "# Al momento tenemos los siguientes DataFrames. Del primer archivo\n",
        "# tenemos la evaluación general, la de la comida y la del servicio:\n",
        "\n",
        "data_rating.head(3)"
      ]
    },
    {
      "cell_type": "code",
      "execution_count": 18,
      "metadata": {
        "id": "y1n23keFiUQg"
      },
      "outputs": [
        {
          "data": {
            "text/html": [
              "<div>\n",
              "<style scoped>\n",
              "    .dataframe tbody tr th:only-of-type {\n",
              "        vertical-align: middle;\n",
              "    }\n",
              "\n",
              "    .dataframe tbody tr th {\n",
              "        vertical-align: top;\n",
              "    }\n",
              "\n",
              "    .dataframe thead th {\n",
              "        text-align: right;\n",
              "    }\n",
              "</style>\n",
              "<table border=\"1\" class=\"dataframe\">\n",
              "  <thead>\n",
              "    <tr style=\"text-align: right;\">\n",
              "      <th></th>\n",
              "      <th>0</th>\n",
              "      <th>1</th>\n",
              "    </tr>\n",
              "  </thead>\n",
              "  <tbody>\n",
              "    <tr>\n",
              "      <th>placeID</th>\n",
              "      <td>134999</td>\n",
              "      <td>132825</td>\n",
              "    </tr>\n",
              "    <tr>\n",
              "      <th>latitude</th>\n",
              "      <td>18.915421</td>\n",
              "      <td>22.147392</td>\n",
              "    </tr>\n",
              "    <tr>\n",
              "      <th>longitude</th>\n",
              "      <td>-99.184871</td>\n",
              "      <td>-100.983092</td>\n",
              "    </tr>\n",
              "    <tr>\n",
              "      <th>the_geom_meter</th>\n",
              "      <td>0101000020957F000088568DE356715AC138C0A525FC46...</td>\n",
              "      <td>0101000020957F00001AD016568C4858C1243261274BA5...</td>\n",
              "    </tr>\n",
              "    <tr>\n",
              "      <th>name</th>\n",
              "      <td>Kiku Cuernavaca</td>\n",
              "      <td>puesto de tacos</td>\n",
              "    </tr>\n",
              "    <tr>\n",
              "      <th>address</th>\n",
              "      <td>Revolucion</td>\n",
              "      <td>esquina santos degollado y leon guzman</td>\n",
              "    </tr>\n",
              "    <tr>\n",
              "      <th>city</th>\n",
              "      <td>Cuernavaca</td>\n",
              "      <td>s.l.p.</td>\n",
              "    </tr>\n",
              "    <tr>\n",
              "      <th>state</th>\n",
              "      <td>Morelos</td>\n",
              "      <td>s.l.p.</td>\n",
              "    </tr>\n",
              "    <tr>\n",
              "      <th>country</th>\n",
              "      <td>Mexico</td>\n",
              "      <td>mexico</td>\n",
              "    </tr>\n",
              "    <tr>\n",
              "      <th>fax</th>\n",
              "      <td>?</td>\n",
              "      <td>?</td>\n",
              "    </tr>\n",
              "    <tr>\n",
              "      <th>zip</th>\n",
              "      <td>?</td>\n",
              "      <td>78280</td>\n",
              "    </tr>\n",
              "    <tr>\n",
              "      <th>alcohol</th>\n",
              "      <td>No_Alcohol_Served</td>\n",
              "      <td>No_Alcohol_Served</td>\n",
              "    </tr>\n",
              "    <tr>\n",
              "      <th>smoking_area</th>\n",
              "      <td>none</td>\n",
              "      <td>none</td>\n",
              "    </tr>\n",
              "    <tr>\n",
              "      <th>dress_code</th>\n",
              "      <td>informal</td>\n",
              "      <td>informal</td>\n",
              "    </tr>\n",
              "    <tr>\n",
              "      <th>accessibility</th>\n",
              "      <td>no_accessibility</td>\n",
              "      <td>completely</td>\n",
              "    </tr>\n",
              "    <tr>\n",
              "      <th>price</th>\n",
              "      <td>medium</td>\n",
              "      <td>low</td>\n",
              "    </tr>\n",
              "    <tr>\n",
              "      <th>url</th>\n",
              "      <td>kikucuernavaca.com.mx</td>\n",
              "      <td>?</td>\n",
              "    </tr>\n",
              "    <tr>\n",
              "      <th>Rambience</th>\n",
              "      <td>familiar</td>\n",
              "      <td>familiar</td>\n",
              "    </tr>\n",
              "    <tr>\n",
              "      <th>franchise</th>\n",
              "      <td>f</td>\n",
              "      <td>f</td>\n",
              "    </tr>\n",
              "    <tr>\n",
              "      <th>area</th>\n",
              "      <td>closed</td>\n",
              "      <td>open</td>\n",
              "    </tr>\n",
              "    <tr>\n",
              "      <th>other_services</th>\n",
              "      <td>none</td>\n",
              "      <td>none</td>\n",
              "    </tr>\n",
              "  </tbody>\n",
              "</table>\n",
              "</div>"
            ],
            "text/plain": [
              "                                                                0  \\\n",
              "placeID                                                    134999   \n",
              "latitude                                                18.915421   \n",
              "longitude                                              -99.184871   \n",
              "the_geom_meter  0101000020957F000088568DE356715AC138C0A525FC46...   \n",
              "name                                              Kiku Cuernavaca   \n",
              "address                                                Revolucion   \n",
              "city                                                   Cuernavaca   \n",
              "state                                                     Morelos   \n",
              "country                                                    Mexico   \n",
              "fax                                                             ?   \n",
              "zip                                                             ?   \n",
              "alcohol                                         No_Alcohol_Served   \n",
              "smoking_area                                                 none   \n",
              "dress_code                                               informal   \n",
              "accessibility                                    no_accessibility   \n",
              "price                                                      medium   \n",
              "url                                         kikucuernavaca.com.mx   \n",
              "Rambience                                                familiar   \n",
              "franchise                                                       f   \n",
              "area                                                       closed   \n",
              "other_services                                               none   \n",
              "\n",
              "                                                                1  \n",
              "placeID                                                    132825  \n",
              "latitude                                                22.147392  \n",
              "longitude                                             -100.983092  \n",
              "the_geom_meter  0101000020957F00001AD016568C4858C1243261274BA5...  \n",
              "name                                              puesto de tacos  \n",
              "address                    esquina santos degollado y leon guzman  \n",
              "city                                                       s.l.p.  \n",
              "state                                                      s.l.p.  \n",
              "country                                                    mexico  \n",
              "fax                                                             ?  \n",
              "zip                                                         78280  \n",
              "alcohol                                         No_Alcohol_Served  \n",
              "smoking_area                                                 none  \n",
              "dress_code                                               informal  \n",
              "accessibility                                          completely  \n",
              "price                                                         low  \n",
              "url                                                             ?  \n",
              "Rambience                                                familiar  \n",
              "franchise                                                       f  \n",
              "area                                                         open  \n",
              "other_services                                               none  "
            ]
          },
          "execution_count": 18,
          "metadata": {},
          "output_type": "execute_result"
        }
      ],
      "source": [
        "# Y del segundo archivo obtenemos información diversa de cada restaurante:\n",
        "\n",
        "data_geo.head(2).T"
      ]
    },
    {
      "cell_type": "markdown",
      "metadata": {
        "id": "f4b6eQ-VFGQS"
      },
      "source": [
        "### **De cada uno de estos archivos selecciona y combina las variables adecuadas para obtener un nuevo DataFrame cuyas columnas sean el ID de usuario (userID), el ID del restaurante (placeID), la calificación general (rating) y el nombre del restaurante (name). A este nuevo DataFrame llamarlo df_combinado.**"
      ]
    },
    {
      "cell_type": "code",
      "execution_count": 19,
      "metadata": {
        "id": "Y3jwhxfdjMWh"
      },
      "outputs": [
        {
          "name": "stdout",
          "output_type": "stream",
          "text": [
            "(1161, 4)\n"
          ]
        },
        {
          "data": {
            "text/html": [
              "<div>\n",
              "<style scoped>\n",
              "    .dataframe tbody tr th:only-of-type {\n",
              "        vertical-align: middle;\n",
              "    }\n",
              "\n",
              "    .dataframe tbody tr th {\n",
              "        vertical-align: top;\n",
              "    }\n",
              "\n",
              "    .dataframe thead th {\n",
              "        text-align: right;\n",
              "    }\n",
              "</style>\n",
              "<table border=\"1\" class=\"dataframe\">\n",
              "  <thead>\n",
              "    <tr style=\"text-align: right;\">\n",
              "      <th></th>\n",
              "      <th>userID</th>\n",
              "      <th>placeID</th>\n",
              "      <th>rating</th>\n",
              "      <th>name</th>\n",
              "    </tr>\n",
              "  </thead>\n",
              "  <tbody>\n",
              "    <tr>\n",
              "      <th>0</th>\n",
              "      <td>U1077</td>\n",
              "      <td>135085</td>\n",
              "      <td>2</td>\n",
              "      <td>Tortas Locas Hipocampo</td>\n",
              "    </tr>\n",
              "    <tr>\n",
              "      <th>1</th>\n",
              "      <td>U1077</td>\n",
              "      <td>135038</td>\n",
              "      <td>2</td>\n",
              "      <td>Restaurant la Chalita</td>\n",
              "    </tr>\n",
              "    <tr>\n",
              "      <th>2</th>\n",
              "      <td>U1077</td>\n",
              "      <td>132825</td>\n",
              "      <td>2</td>\n",
              "      <td>puesto de tacos</td>\n",
              "    </tr>\n",
              "    <tr>\n",
              "      <th>3</th>\n",
              "      <td>U1077</td>\n",
              "      <td>135060</td>\n",
              "      <td>1</td>\n",
              "      <td>Restaurante Marisco Sam</td>\n",
              "    </tr>\n",
              "    <tr>\n",
              "      <th>4</th>\n",
              "      <td>U1068</td>\n",
              "      <td>135104</td>\n",
              "      <td>1</td>\n",
              "      <td>vips</td>\n",
              "    </tr>\n",
              "  </tbody>\n",
              "</table>\n",
              "</div>"
            ],
            "text/plain": [
              "  userID  placeID  rating                     name\n",
              "0  U1077   135085       2   Tortas Locas Hipocampo\n",
              "1  U1077   135038       2    Restaurant la Chalita\n",
              "2  U1077   132825       2          puesto de tacos\n",
              "3  U1077   135060       1  Restaurante Marisco Sam\n",
              "4  U1068   135104       1                     vips"
            ]
          },
          "execution_count": 19,
          "metadata": {},
          "output_type": "execute_result"
        }
      ],
      "source": [
        "# Ejercicio 3:\n",
        "\n",
        "# ************* Inlcuye aquí tu código:*****************************\n",
        "\n",
        "df_combinado = pd.merge(data_rating[['userID','placeID','rating']],data_geo[['placeID','name']],on='placeID')\n",
        "\n",
        "\n",
        "\n",
        "# *********** Aquí termina la sección de agregar código *************\n",
        "\n",
        "\n",
        "# Despleguemos la dimensión y los primeros renglones de este DataFrame:\n",
        "\n",
        "print(df_combinado.shape)\n",
        "df_combinado.head()"
      ]
    },
    {
      "cell_type": "markdown",
      "metadata": {
        "id": "2EyK_O7EHBWe"
      },
      "source": [
        "## **Ejercicio - 4**"
      ]
    },
    {
      "cell_type": "code",
      "execution_count": 20,
      "metadata": {
        "id": "p6J7eDI-oTeH"
      },
      "outputs": [
        {
          "name": "stdout",
          "output_type": "stream",
          "text": [
            "Dimensión de la matriz de Utilidad:\n",
            "(restaurantes, usuarios) = (130, 138)\n"
          ]
        },
        {
          "data": {
            "text/html": [
              "<div>\n",
              "<style scoped>\n",
              "    .dataframe tbody tr th:only-of-type {\n",
              "        vertical-align: middle;\n",
              "    }\n",
              "\n",
              "    .dataframe tbody tr th {\n",
              "        vertical-align: top;\n",
              "    }\n",
              "\n",
              "    .dataframe thead th {\n",
              "        text-align: right;\n",
              "    }\n",
              "</style>\n",
              "<table border=\"1\" class=\"dataframe\">\n",
              "  <thead>\n",
              "    <tr style=\"text-align: right;\">\n",
              "      <th>userID</th>\n",
              "      <th>U1001</th>\n",
              "      <th>U1002</th>\n",
              "      <th>U1003</th>\n",
              "      <th>U1004</th>\n",
              "      <th>U1005</th>\n",
              "      <th>U1006</th>\n",
              "      <th>U1007</th>\n",
              "      <th>U1008</th>\n",
              "      <th>U1009</th>\n",
              "      <th>U1010</th>\n",
              "      <th>...</th>\n",
              "      <th>U1129</th>\n",
              "      <th>U1130</th>\n",
              "      <th>U1131</th>\n",
              "      <th>U1132</th>\n",
              "      <th>U1133</th>\n",
              "      <th>U1134</th>\n",
              "      <th>U1135</th>\n",
              "      <th>U1136</th>\n",
              "      <th>U1137</th>\n",
              "      <th>U1138</th>\n",
              "    </tr>\n",
              "    <tr>\n",
              "      <th>name</th>\n",
              "      <th></th>\n",
              "      <th></th>\n",
              "      <th></th>\n",
              "      <th></th>\n",
              "      <th></th>\n",
              "      <th></th>\n",
              "      <th></th>\n",
              "      <th></th>\n",
              "      <th></th>\n",
              "      <th></th>\n",
              "      <th></th>\n",
              "      <th></th>\n",
              "      <th></th>\n",
              "      <th></th>\n",
              "      <th></th>\n",
              "      <th></th>\n",
              "      <th></th>\n",
              "      <th></th>\n",
              "      <th></th>\n",
              "      <th></th>\n",
              "      <th></th>\n",
              "    </tr>\n",
              "  </thead>\n",
              "  <tbody>\n",
              "    <tr>\n",
              "      <th>Abondance Restaurante Bar</th>\n",
              "      <td>0.0</td>\n",
              "      <td>0.0</td>\n",
              "      <td>0.0</td>\n",
              "      <td>0.0</td>\n",
              "      <td>0.0</td>\n",
              "      <td>0.0</td>\n",
              "      <td>0.0</td>\n",
              "      <td>1.0</td>\n",
              "      <td>0.0</td>\n",
              "      <td>0.0</td>\n",
              "      <td>...</td>\n",
              "      <td>0.0</td>\n",
              "      <td>0.0</td>\n",
              "      <td>0.0</td>\n",
              "      <td>0.0</td>\n",
              "      <td>0.0</td>\n",
              "      <td>0.0</td>\n",
              "      <td>0.0</td>\n",
              "      <td>0.0</td>\n",
              "      <td>0.0</td>\n",
              "      <td>0.0</td>\n",
              "    </tr>\n",
              "    <tr>\n",
              "      <th>Arrachela Grill</th>\n",
              "      <td>0.0</td>\n",
              "      <td>0.0</td>\n",
              "      <td>0.0</td>\n",
              "      <td>0.0</td>\n",
              "      <td>0.0</td>\n",
              "      <td>0.0</td>\n",
              "      <td>0.0</td>\n",
              "      <td>0.0</td>\n",
              "      <td>0.0</td>\n",
              "      <td>0.0</td>\n",
              "      <td>...</td>\n",
              "      <td>0.0</td>\n",
              "      <td>0.0</td>\n",
              "      <td>0.0</td>\n",
              "      <td>0.0</td>\n",
              "      <td>0.0</td>\n",
              "      <td>0.0</td>\n",
              "      <td>0.0</td>\n",
              "      <td>0.0</td>\n",
              "      <td>0.0</td>\n",
              "      <td>0.0</td>\n",
              "    </tr>\n",
              "    <tr>\n",
              "      <th>Cabana Huasteca</th>\n",
              "      <td>0.0</td>\n",
              "      <td>0.0</td>\n",
              "      <td>2.0</td>\n",
              "      <td>0.0</td>\n",
              "      <td>0.0</td>\n",
              "      <td>0.0</td>\n",
              "      <td>0.0</td>\n",
              "      <td>0.0</td>\n",
              "      <td>1.0</td>\n",
              "      <td>0.0</td>\n",
              "      <td>...</td>\n",
              "      <td>0.0</td>\n",
              "      <td>0.0</td>\n",
              "      <td>0.0</td>\n",
              "      <td>0.0</td>\n",
              "      <td>0.0</td>\n",
              "      <td>2.0</td>\n",
              "      <td>0.0</td>\n",
              "      <td>0.0</td>\n",
              "      <td>0.0</td>\n",
              "      <td>0.0</td>\n",
              "    </tr>\n",
              "    <tr>\n",
              "      <th>Cafe Chaires</th>\n",
              "      <td>0.0</td>\n",
              "      <td>0.0</td>\n",
              "      <td>0.0</td>\n",
              "      <td>0.0</td>\n",
              "      <td>0.0</td>\n",
              "      <td>1.0</td>\n",
              "      <td>1.0</td>\n",
              "      <td>0.0</td>\n",
              "      <td>0.0</td>\n",
              "      <td>0.0</td>\n",
              "      <td>...</td>\n",
              "      <td>0.0</td>\n",
              "      <td>0.0</td>\n",
              "      <td>0.0</td>\n",
              "      <td>0.0</td>\n",
              "      <td>0.0</td>\n",
              "      <td>0.0</td>\n",
              "      <td>0.0</td>\n",
              "      <td>0.0</td>\n",
              "      <td>0.0</td>\n",
              "      <td>0.0</td>\n",
              "    </tr>\n",
              "    <tr>\n",
              "      <th>Cafeteria cenidet</th>\n",
              "      <td>0.0</td>\n",
              "      <td>0.0</td>\n",
              "      <td>0.0</td>\n",
              "      <td>0.0</td>\n",
              "      <td>0.0</td>\n",
              "      <td>0.0</td>\n",
              "      <td>0.0</td>\n",
              "      <td>0.0</td>\n",
              "      <td>0.0</td>\n",
              "      <td>0.0</td>\n",
              "      <td>...</td>\n",
              "      <td>0.0</td>\n",
              "      <td>0.0</td>\n",
              "      <td>0.0</td>\n",
              "      <td>0.0</td>\n",
              "      <td>0.0</td>\n",
              "      <td>0.0</td>\n",
              "      <td>0.0</td>\n",
              "      <td>0.0</td>\n",
              "      <td>0.0</td>\n",
              "      <td>0.0</td>\n",
              "    </tr>\n",
              "  </tbody>\n",
              "</table>\n",
              "<p>5 rows × 138 columns</p>\n",
              "</div>"
            ],
            "text/plain": [
              "userID                     U1001  U1002  U1003  U1004  U1005  U1006  U1007  \\\n",
              "name                                                                         \n",
              "Abondance Restaurante Bar    0.0    0.0    0.0    0.0    0.0    0.0    0.0   \n",
              "Arrachela Grill              0.0    0.0    0.0    0.0    0.0    0.0    0.0   \n",
              "Cabana Huasteca              0.0    0.0    2.0    0.0    0.0    0.0    0.0   \n",
              "Cafe Chaires                 0.0    0.0    0.0    0.0    0.0    1.0    1.0   \n",
              "Cafeteria cenidet            0.0    0.0    0.0    0.0    0.0    0.0    0.0   \n",
              "\n",
              "userID                     U1008  U1009  U1010  ...  U1129  U1130  U1131  \\\n",
              "name                                            ...                        \n",
              "Abondance Restaurante Bar    1.0    0.0    0.0  ...    0.0    0.0    0.0   \n",
              "Arrachela Grill              0.0    0.0    0.0  ...    0.0    0.0    0.0   \n",
              "Cabana Huasteca              0.0    1.0    0.0  ...    0.0    0.0    0.0   \n",
              "Cafe Chaires                 0.0    0.0    0.0  ...    0.0    0.0    0.0   \n",
              "Cafeteria cenidet            0.0    0.0    0.0  ...    0.0    0.0    0.0   \n",
              "\n",
              "userID                     U1132  U1133  U1134  U1135  U1136  U1137  U1138  \n",
              "name                                                                        \n",
              "Abondance Restaurante Bar    0.0    0.0    0.0    0.0    0.0    0.0    0.0  \n",
              "Arrachela Grill              0.0    0.0    0.0    0.0    0.0    0.0    0.0  \n",
              "Cabana Huasteca              0.0    0.0    2.0    0.0    0.0    0.0    0.0  \n",
              "Cafe Chaires                 0.0    0.0    0.0    0.0    0.0    0.0    0.0  \n",
              "Cafeteria cenidet            0.0    0.0    0.0    0.0    0.0    0.0    0.0  \n",
              "\n",
              "[5 rows x 138 columns]"
            ]
          },
          "execution_count": 20,
          "metadata": {},
          "output_type": "execute_result"
        }
      ],
      "source": [
        "# Ejercicio 4:\n",
        "\n",
        "#    Define la matriz de utilidad cuyos renglones sean los nombres de los\n",
        "#    restaurantes, las columnas los IDs de los usuarios y las entradas la\n",
        "#    evaluación general (rating). La llamaremos \"UtMx_rating\".\n",
        "\n",
        "\n",
        "# ************* Inlcuye aquí tu código:*****************************\n",
        "\n",
        "UtMx_rating = df_combinado.pivot_table(values='rating', index='name', columns='userID', fill_value=0)\n",
        "\n",
        "\n",
        "# *********** Aquí termina la sección de agregar código *************\n",
        "\n",
        "\n",
        "print('Dimensión de la matriz de Utilidad:')\n",
        "print('(restaurantes, usuarios) =', (UtMx_rating.shape))\n",
        "UtMx_rating.head()"
      ]
    },
    {
      "cell_type": "markdown",
      "metadata": {
        "id": "ai8oUVF5RhkK"
      },
      "source": [
        "#### **Similaridades con la matriz obtenida de la Factorización SVD Truncada:**"
      ]
    },
    {
      "cell_type": "markdown",
      "metadata": {
        "id": "xGu3qv-T8XGH"
      },
      "source": [
        "*   ### **Aplicaremo la Factorización SVD con los 66 primeros valores singulares a la matriz de utilidad UtMx_rating.**\n",
        "\n",
        "*   ### **El valor de 66 se seleccionó porque como verás, esta cantidad de valores singulares es suficiente para describir al menos el 95% de la varianza de la matriz de utilidad.**\n",
        "\n",
        "*   ### **Recordemos que la factorización SVD de una matriz $A$ tiene la forma:** $A_{m\\times n} = U_{m\\times m}\\Sigma_{m\\times n}V_{n\\times n}^T$\n",
        "\n",
        "*   ### **Usaremos la función coseno como medida de similaridad**\n",
        "\n",
        "*   ### **Buscaremos restaurantes similares al llamado  \"tacos de barbacoa enfrente del Tec\"**."
      ]
    },
    {
      "cell_type": "code",
      "execution_count": 21,
      "metadata": {
        "id": "jg6ofJ7kTD3d"
      },
      "outputs": [
        {
          "name": "stdout",
          "output_type": "stream",
          "text": [
            "Dimensión Vectores latentes restaurantes: (130, 66)\n",
            "Dimensión Traspuesta Vectores latentes usuarios: (66, 138)\n",
            "\n",
            "Variabilidad acumulada de las componentes utilizadas: 0.952\n",
            "\n",
            "Total de similaridades positivas encontradas: 74\n",
            "\n",
            "Mejores recomendaciones con base al restaurante: \"tacos de barbacoa enfrente del Tec\":\n"
          ]
        },
        {
          "data": {
            "text/plain": [
              "[(np.float64(0.9366791494631511), 'vips'),\n",
              " (np.float64(0.9323794314398947), 'little pizza Emilio Portes Gil'),\n",
              " (np.float64(0.9240562644526806), 'tacos abi'),\n",
              " (np.float64(0.5293354484112126), 'Carreton de Flautas y Migadas'),\n",
              " (np.float64(0.5007189065197044), 'puesto de gorditas'),\n",
              " (np.float64(0.4753163416480239), 'Taqueria EL amigo '),\n",
              " (np.float64(0.3626595996142582), 'carnitas_mata'),\n",
              " (np.float64(0.2629695206481324), 'Little Cesarz'),\n",
              " (np.float64(0.23296450903032245), 'Gorditas Dona Tota 2'),\n",
              " (np.float64(0.1816864907268077), 'carnitas mata calle Emilio Portes Gil')]"
            ]
          },
          "execution_count": 21,
          "metadata": {},
          "output_type": "execute_result"
        }
      ],
      "source": [
        "num_componentes=66  # componentes más significativas\n",
        "\n",
        "# Obtengamos la matriz de factores latentes de los restaurantes:\n",
        "SVD_rating = TruncatedSVD(n_components=num_componentes)  # inicializamos\n",
        "mat_fact_lat_restaurantes = SVD_rating.fit_transform(UtMx_rating) # SVD truncada-ndarray\n",
        "\n",
        "print('Dimensión Vectores latentes restaurantes:', mat_fact_lat_restaurantes.shape)\n",
        "print('Dimensión Traspuesta Vectores latentes usuarios:', SVD_rating.components_.shape)\n",
        "\n",
        "# Calculemos la variabilidad acumulada de las componentes utilizadas:\n",
        "print('\\nVariabilidad acumulada de las componentes utilizadas: %.3f' % SVD_rating.explained_variance_ratio_[0:num_componentes].sum())\n",
        "\n",
        "# matriz de similaridad\n",
        "sim_matrix = cosine_similarity(mat_fact_lat_restaurantes)\n",
        "\n",
        "# Restaurante de referencia:\n",
        "restaurante_de_referencia = \"tacos de barbacoa enfrente del Tec\"\n",
        "nombres_rest = UtMx_rating.T.columns  # lista de los nombres de los restaurantes.\n",
        "idx_rest = list(nombres_rest).index(restaurante_de_referencia) # índice del restaurante de referencia.\n",
        "sim_vector = sim_matrix[idx_rest] # Vector de similaridad del restaurante de referencia contra todos.\n",
        "# Buscando las similaridades positivas:\n",
        "idx = (sim_vector>0)\n",
        "mejores_sim_rate = list()\n",
        "for i in range(len(nombres_rest[idx])):\n",
        "  mejores_sim_rate.append((sim_vector[idx][i], nombres_rest[idx][i]))\n",
        "\n",
        "print('\\nTotal de similaridades positivas encontradas:', len(mejores_sim_rate))\n",
        "\n",
        "# Las ordenamos de mayor a menor relevancia:\n",
        "mejores_sim_rate_ordenadas = sorted(mejores_sim_rate, key=lambda x:x[0], reverse=True)\n",
        "\n",
        "print('\\nMejores recomendaciones con base al restaurante: \\\"%s\\\":' % restaurante_de_referencia)\n",
        "mejores_sim_rate_ordenadas[1:11]   # omitimos el primero que es el mismo restaurante de referencia\n"
      ]
    },
    {
      "cell_type": "markdown",
      "metadata": {
        "id": "PACH7ewoQTqB"
      },
      "source": [
        "## **Ejercicio - 5**"
      ]
    },
    {
      "cell_type": "markdown",
      "metadata": {
        "id": "Zl8QhjWB9zDu"
      },
      "source": [
        "### **Sistema Híbrido**\n",
        "\n",
        "### **Utilicemos ahora un sistema híbrido, el cual consistirá en conjuntar la matriz de \"factores_latentes_restaurantes\" (que es un ndarray) obtenida previamente, con la matriz de factores adicionales (que también será un ndarray) formada por las columnas One-Hot-Encoder de los factores 'dress_code', 'accessibility', 'price' y 'franchise' del DataFrame data_geo.**\n",
        "\n",
        "### **Por el momento no requerimos que la matriz híbrida sea un DataFrame, con que sea un arreglo de NumPy, ndarray, será suficiente.**\n",
        "\n",
        "### **Los renglones de la matriz híbrida siguen representando a cada restaurante, pero ahora con la información de los vectores latentes de la factorización SVD, más los vectores OneHotEncoding de los nuevos factores que se incluyeron.**\n",
        "\n"
      ]
    },
    {
      "cell_type": "code",
      "execution_count": null,
      "metadata": {
        "id": "Qt3Oh45lpHp1"
      },
      "outputs": [
        {
          "name": "stdout",
          "output_type": "stream",
          "text": [
            "Dimensión de la matriz híbrida:\n"
          ]
        },
        {
          "data": {
            "text/plain": [
              "(130, 77)"
            ]
          },
          "execution_count": 22,
          "metadata": {},
          "output_type": "execute_result"
        }
      ],
      "source": [
        "# Ejercicio 5:\n",
        "\n",
        "# Define el DataFrame \"df_fact_adicionales\" formada por los factores 'dress_code',\n",
        "# 'accessibility', 'price' y 'franchise'.\n",
        "# Después generar la matriz (ndarray), \"mat_fact_adicionales_ohe\", que se obtiene\n",
        "# al tranformar las columnas (variables categóricas nominales) de \"df_fact_adicionales\"\n",
        "# mediante OneHotEncoding.\n",
        "# Finalmente conjuntar horizontalmente la matriz \"mat_fact_lat_restaurantes\"\n",
        "# con \"mat_fact_adicionales_ohe\" para obtener la \"matriz_hibrida\" (ndarray).\n",
        "# Toma en cuenta que \"matriz_hibrida\" estará formada por las columnas de \"mat_fact_lat_restaurantes\"\n",
        "# seguida por las columnas de \"mat_fact_adicionales_ohe\".\n",
        "\n",
        "\n",
        "# ************* Inlcuye aquí tu código:*****************************\n",
        "\n",
        "df_fact_adicionales = data_geo[['name','dress_code','accessibility', 'price' ,'franchise']].sort_values(by='name').reset_index(drop= True).drop(columns='name') #Creacion de un df ordenado por nombres debido a que la matriz con la que que se va a unir esta ordenado por nombres. \n",
        "mat_fact_adicionales_ohe = OneHotEncoder().fit_transform(df_fact_adicionales).toarray() #Creacion de la matriz a concatenar, apartir del df fact addiconales, y convertido en array \n",
        "matriz_hibrida = np.concat((mat_fact_lat_restaurantes,mat_fact_adicionales_ohe),axis=1) #Concatenacion de la matriz \"mat_fact_lat_restaurantes\" con la matriz \"mat_fact_adicionales_ohe\"\n",
        "\n",
        "\n",
        "# *********** Aquí termina la sección de agregar código *************\n",
        "\n",
        "\n",
        "print('Dimensión de la matriz híbrida:')\n",
        "matriz_hibrida.shape"
      ]
    },
    {
      "cell_type": "code",
      "execution_count": 23,
      "metadata": {
        "id": "HKtysNkwxuTl"
      },
      "outputs": [
        {
          "name": "stdout",
          "output_type": "stream",
          "text": [
            "Restaurante de referencia: tacos de barbacoa enfrente del Tec\n",
            "Índice del restaurante de referencia: 111\n"
          ]
        }
      ],
      "source": [
        "# Recordemos que \"restaurante_de_referencia\" es \"tacos de barbacoa enfrente del Tec\".\n",
        "# Obtener el índice del restaurante\n",
        "idx = data_geo[data_geo['name'] == restaurante_de_referencia].index[0]\n",
        "\n",
        "print('Restaurante de referencia:', restaurante_de_referencia)\n",
        "print('Índice del restaurante de referencia:', idx)"
      ]
    },
    {
      "cell_type": "markdown",
      "metadata": {
        "id": "ML52GNI3xCbV"
      },
      "source": [
        "## **Ejercicio - 6:**"
      ]
    },
    {
      "cell_type": "markdown",
      "metadata": {
        "id": "gvBn_7NkyiBi"
      },
      "source": [
        "### **Una vez que tenemos la matriz híbrida, con dicha matriz deberás obtener las similitudes (con respecto a la función coseno) del restaurante de referencia con relación a todos los restaurantes, ordenarlos de mayor a menor con respecto a la similitud del coseno y desplegar los primeros 10 de mayor similitud (sin incluir al restaurante de referencia mismo).**"
      ]
    },
    {
      "cell_type": "code",
      "execution_count": 24,
      "metadata": {
        "id": "FRFnSwwTjpoS"
      },
      "outputs": [
        {
          "name": "stdout",
          "output_type": "stream",
          "text": [
            "\n",
            "Total de similaridades positivas encontradas: 128\n",
            "\n",
            "Top 10 restaurantes más similares a \"tacos de barbacoa enfrente del Tec\":\n",
            "Restaurante: tacos abi, Similitud: 0.9727\n",
            "Restaurante: little pizza Emilio Portes Gil, Similitud: 0.8119\n",
            "Restaurante: Carnitas Mata  Calle 16 de Septiembre, Similitud: 0.7692\n",
            "Restaurante: Carreton de Flautas y Migadas, Similitud: 0.7358\n",
            "Restaurante: vips, Similitud: 0.6912\n",
            "Restaurante: puesto de gorditas, Similitud: 0.6693\n",
            "Restaurante: cafe ambar, Similitud: 0.6680\n",
            "Restaurante: Hamburguesas saul, Similitud: 0.6568\n",
            "Restaurante: sirloin stockade, Similitud: 0.6358\n",
            "Restaurante: Taqueria EL amigo , Similitud: 0.5970\n"
          ]
        }
      ],
      "source": [
        "# Ejercicio 6\n",
        "\n",
        "# ************* Inlcuye aquí tu código:*****************************\n",
        "\n",
        "sim_matrix = cosine_similarity(matriz_hibrida)\n",
        "\n",
        "restaurante_de_referencia = \"tacos de barbacoa enfrente del Tec\"\n",
        "nombres_rest = UtMx_rating.T.columns  \n",
        "idx_rest = list(nombres_rest).index(restaurante_de_referencia)\n",
        "\n",
        "sim_vector = sim_matrix[idx_rest]\n",
        "idx = np.where(sim_vector > 0)[0] \n",
        "mejores_sim_rate = list()\n",
        "for i in idx:\n",
        "    if i != idx_rest:# Excluir el restaurante de referencia\n",
        "      mejores_sim_rate.append((sim_vector[i], nombres_rest[i]))\n",
        "mejores_sim_rate_ordenadas = sorted(mejores_sim_rate, key=lambda x: x[0], reverse=True)\n",
        "print('\\nTotal de similaridades positivas encontradas:', len(mejores_sim_rate))\n",
        "print(\"\\nTop 10 restaurantes más similares a \\\"%s\\\":\" % restaurante_de_referencia)\n",
        "for sim in mejores_sim_rate_ordenadas[:10]:\n",
        "    print(f\"Restaurante: {sim[1]}, Similitud: {sim[0]:.4f}\")\n",
        "\n",
        "\n",
        "# *********** Aquí termina la sección de agregar código *************"
      ]
    },
    {
      "cell_type": "markdown",
      "metadata": {
        "id": "ZJvi3WLR0zKY"
      },
      "source": [
        "## **Ejercicio - 7**"
      ]
    },
    {
      "cell_type": "markdown",
      "metadata": {
        "id": "IAPKgBzD14By"
      },
      "source": [
        "### **Incluye tus comentarios y conclusiones de la actividad. En particular comenta las diferencias que encuentras entre un sistema de recomendación basado solamente en la factorización SVD y uno híbrido.**"
      ]
    },
    {
      "cell_type": "markdown",
      "metadata": {
        "id": "vtOMmDZeBBwg"
      },
      "source": [
        "++++++++ Inicia la sección de agregar texto: +++++++++++\n",
        "\n",
        "En esta actividad, implementaste y analizaste un sistema de recomendación basado en Descomposición en Valores Singulares (SVD) y un enfoque híbrido, integrando información adicional de los restaurantes como : dress_code, accessibility, price, franchise. \n",
        "\n",
        "Por un lado logramos obsevrar que Un sistema basado solo en SVD captura patrones de comportamiento, pero puede perder información relevante sobre los restaurantes, mientras que un sistema híbrido equilibra la personalización basada en usuarios con características de los ítems, ofreciendo recomendaciones más precisas y diversas.\n",
        "\n",
        "Los resultados muestran que, aunque algunos restaurantes se mantienen en el top de recomendaciones en ambos enfoques, las similitudes cambiaron al considerar información adicional en el modelo híbrido. Esto indica que los atributos del restaurante pueden influir significativamente en las recomendaciones.\n",
        "\n",
        "El uso de SVD junto con información adicional mejora la capacidad del sistema de recomendación, proporcionando sugerencias más alineadas con las preferencias y características del usuario. Este enfoque híbrido es más robusto, ya que no solo analiza patrones de calificación, sino que también considera mas atributos \n",
        "\n",
        "\n",
        "\n",
        "++++++++ Termina la sección de agregar texto. +++++++++++"
      ]
    },
    {
      "cell_type": "markdown",
      "metadata": {
        "id": "N2rZwkmlAofg"
      },
      "source": [
        ">> **Fin de la Actividad de Sistemas de Recomendación**"
      ]
    }
  ],
  "metadata": {
    "colab": {
      "collapsed_sections": [
        "9ejOXFX0wRbr",
        "DbEshKJnwPp3",
        "rr3hJTCW6c05",
        "2EyK_O7EHBWe",
        "PACH7ewoQTqB",
        "ML52GNI3xCbV",
        "ZJvi3WLR0zKY"
      ],
      "provenance": []
    },
    "kernelspec": {
      "display_name": "Python 3",
      "name": "python3"
    },
    "language_info": {
      "codemirror_mode": {
        "name": "ipython",
        "version": 3
      },
      "file_extension": ".py",
      "mimetype": "text/x-python",
      "name": "python",
      "nbconvert_exporter": "python",
      "pygments_lexer": "ipython3",
      "version": "3.12.9"
    }
  },
  "nbformat": 4,
  "nbformat_minor": 0
}
